{
 "cells": [
  {
   "cell_type": "markdown",
   "id": "c4c622c5",
   "metadata": {},
   "source": [
    "<a href='https://honglab.ai'><p style=\"text-align:center;\"><img src='https://lh3.googleusercontent.com/lY3ySXooSmwsq5r-mRi7uiypbo0Vez6pmNoQxMFhl9fmZJkRHu5lO2vo7se_0YOzgmDyJif9fi4_z0o3ZFdwd8NVSWG6Ea80uWaf3pOHpR4GHGDV7kaFeuHR3yAjIJjDgfXMxsvw=w2400'  class=\"center\" width=\"50%\" height=\"50%\"/></p></a>\n",
    "\n",
    "<center><em>Content Copyright by HongLab, Inc.</em></center>"
   ]
  },
  {
   "cell_type": "markdown",
   "id": "84c988be",
   "metadata": {},
   "source": [
    "# 미분"
   ]
  },
  {
   "cell_type": "markdown",
   "id": "003f43a2",
   "metadata": {},
   "source": [
    "### 수치 미분(Numerical Differentiation)"
   ]
  },
  {
   "cell_type": "code",
   "execution_count": 1,
   "id": "1657a770",
   "metadata": {},
   "outputs": [
    {
     "name": "stdout",
     "output_type": "stream",
     "text": [
      "-12.0\n"
     ]
    }
   ],
   "source": [
    "def func(x):\n",
    "    return x**2\n",
    "\n",
    "x0 = 0.5\n",
    "x1 = 3.5\n",
    "\n",
    "y0 = func(x0)\n",
    "y1 = func(x1)\n",
    "\n",
    "print(y0 - y1)"
   ]
  },
  {
   "cell_type": "code",
   "execution_count": 2,
   "id": "ab06eab9",
   "metadata": {},
   "outputs": [
    {
     "data": {
      "text/html": [
       "\n",
       "<style>\n",
       "  #altair-viz-b1eb5ebae0104b2880a93400e0c4ce12.vega-embed {\n",
       "    width: 100%;\n",
       "    display: flex;\n",
       "  }\n",
       "\n",
       "  #altair-viz-b1eb5ebae0104b2880a93400e0c4ce12.vega-embed details,\n",
       "  #altair-viz-b1eb5ebae0104b2880a93400e0c4ce12.vega-embed details summary {\n",
       "    position: relative;\n",
       "  }\n",
       "</style>\n",
       "<div id=\"altair-viz-b1eb5ebae0104b2880a93400e0c4ce12\"></div>\n",
       "<script type=\"text/javascript\">\n",
       "  var VEGA_DEBUG = (typeof VEGA_DEBUG == \"undefined\") ? {} : VEGA_DEBUG;\n",
       "  (function(spec, embedOpt){\n",
       "    let outputDiv = document.currentScript.previousElementSibling;\n",
       "    if (outputDiv.id !== \"altair-viz-b1eb5ebae0104b2880a93400e0c4ce12\") {\n",
       "      outputDiv = document.getElementById(\"altair-viz-b1eb5ebae0104b2880a93400e0c4ce12\");\n",
       "    }\n",
       "\n",
       "    const paths = {\n",
       "      \"vega\": \"https://cdn.jsdelivr.net/npm/vega@5?noext\",\n",
       "      \"vega-lib\": \"https://cdn.jsdelivr.net/npm/vega-lib?noext\",\n",
       "      \"vega-lite\": \"https://cdn.jsdelivr.net/npm/vega-lite@5.20.1?noext\",\n",
       "      \"vega-embed\": \"https://cdn.jsdelivr.net/npm/vega-embed@6?noext\",\n",
       "    };\n",
       "\n",
       "    function maybeLoadScript(lib, version) {\n",
       "      var key = `${lib.replace(\"-\", \"\")}_version`;\n",
       "      return (VEGA_DEBUG[key] == version) ?\n",
       "        Promise.resolve(paths[lib]) :\n",
       "        new Promise(function(resolve, reject) {\n",
       "          var s = document.createElement('script');\n",
       "          document.getElementsByTagName(\"head\")[0].appendChild(s);\n",
       "          s.async = true;\n",
       "          s.onload = () => {\n",
       "            VEGA_DEBUG[key] = version;\n",
       "            return resolve(paths[lib]);\n",
       "          };\n",
       "          s.onerror = () => reject(`Error loading script: ${paths[lib]}`);\n",
       "          s.src = paths[lib];\n",
       "        });\n",
       "    }\n",
       "\n",
       "    function showError(err) {\n",
       "      outputDiv.innerHTML = `<div class=\"error\" style=\"color:red;\">${err}</div>`;\n",
       "      throw err;\n",
       "    }\n",
       "\n",
       "    function displayChart(vegaEmbed) {\n",
       "      vegaEmbed(outputDiv, spec, embedOpt)\n",
       "        .catch(err => showError(`Javascript Error: ${err.message}<br>This usually means there's a typo in your chart specification. See the javascript console for the full traceback.`));\n",
       "    }\n",
       "\n",
       "    if(typeof define === \"function\" && define.amd) {\n",
       "      requirejs.config({paths});\n",
       "      let deps = [\"vega-embed\"];\n",
       "      require(deps, displayChart, err => showError(`Error loading script: ${err.message}`));\n",
       "    } else {\n",
       "      maybeLoadScript(\"vega\", \"5\")\n",
       "        .then(() => maybeLoadScript(\"vega-lite\", \"5.20.1\"))\n",
       "        .then(() => maybeLoadScript(\"vega-embed\", \"6\"))\n",
       "        .catch(showError)\n",
       "        .then(() => displayChart(vegaEmbed));\n",
       "    }\n",
       "  })({\"config\": {\"view\": {\"continuousWidth\": 300, \"continuousHeight\": 300}}, \"layer\": [{\"data\": {\"values\": [{\"x\": -2.0, \"y\": 4.0}, {\"x\": -1.9292929292929293, \"y\": 3.722171207019692}, {\"x\": -1.8585858585858586, \"y\": 3.454341393735333}, {\"x\": -1.7878787878787878, \"y\": 3.1965105601469235}, {\"x\": -1.7171717171717171, \"y\": 2.9486787062544635}, {\"x\": -1.6464646464646464, \"y\": 2.710845832057953}, {\"x\": -1.5757575757575757, \"y\": 2.483011937557392}, {\"x\": -1.5050505050505052, \"y\": 2.2651770227527805}, {\"x\": -1.4343434343434343, \"y\": 2.057341087644118}, {\"x\": -1.3636363636363638, \"y\": 1.8595041322314052}, {\"x\": -1.2929292929292928, \"y\": 1.6716661565146411}, {\"x\": -1.2222222222222223, \"y\": 1.4938271604938274}, {\"x\": -1.1515151515151516, \"y\": 1.3259871441689626}, {\"x\": -1.0808080808080809, \"y\": 1.168146107540047}, {\"x\": -1.0101010101010102, \"y\": 1.020304050607081}, {\"x\": -0.9393939393939394, \"y\": 0.8824609733700643}, {\"x\": -0.8686868686868687, \"y\": 0.7546168758289972}, {\"x\": -0.797979797979798, \"y\": 0.6367717579838792}, {\"x\": -0.7272727272727273, \"y\": 0.5289256198347108}, {\"x\": -0.6565656565656566, \"y\": 0.4310784613814917}, {\"x\": -0.5858585858585859, \"y\": 0.343230282624222}, {\"x\": -0.5151515151515151, \"y\": 0.26538108356290174}, {\"x\": -0.4444444444444444, \"y\": 0.19753086419753085}, {\"x\": -0.3737373737373737, \"y\": 0.13967962452810934}, {\"x\": -0.3030303030303032, \"y\": 0.09182736455463739}, {\"x\": -0.2323232323232325, \"y\": 0.053974084277114656}, {\"x\": -0.16161616161616177, \"y\": 0.02611978369554132}, {\"x\": -0.09090909090909105, \"y\": 0.008264462809917382}, {\"x\": -0.020202020202020332, \"y\": 0.0004081216202428376}, {\"x\": 0.05050505050505061, \"y\": 0.0025507601265177125}, {\"x\": 0.1212121212121211, \"y\": 0.014692378328741939}, {\"x\": 0.19191919191919204, \"y\": 0.03683297622691567}, {\"x\": 0.26262626262626254, \"y\": 0.06897255382103862}, {\"x\": 0.33333333333333304, \"y\": 0.11111111111111091}, {\"x\": 0.404040404040404, \"y\": 0.16324864809713288}, {\"x\": 0.4747474747474745, \"y\": 0.22538516477910392}, {\"x\": 0.5454545454545454, \"y\": 0.29752066115702475}, {\"x\": 0.6161616161616159, \"y\": 0.3796551372308945}, {\"x\": 0.6868686868686869, \"y\": 0.4717885930007142}, {\"x\": 0.7575757575757573, \"y\": 0.5739210284664826}, {\"x\": 0.8282828282828283, \"y\": 0.6860524436282012}, {\"x\": 0.8989898989898988, \"y\": 0.8081828384858685}, {\"x\": 0.9696969696969697, \"y\": 0.9403122130394859}, {\"x\": 1.0404040404040402, \"y\": 1.0824405672890518}, {\"x\": 1.1111111111111112, \"y\": 1.234567901234568}, {\"x\": 1.1818181818181817, \"y\": 1.3966942148760326}, {\"x\": 1.2525252525252526, \"y\": 1.5688195082134477}, {\"x\": 1.323232323232323, \"y\": 1.7509437812468112}, {\"x\": 1.3939393939393936, \"y\": 1.943067033976124}, {\"x\": 1.4646464646464645, \"y\": 2.1451892664013874}, {\"x\": 1.535353535353535, \"y\": 2.357310478522599}, {\"x\": 1.606060606060606, \"y\": 2.579430670339761}, {\"x\": 1.6767676767676765, \"y\": 2.8115498418528713}, {\"x\": 1.7474747474747474, \"y\": 3.053667993061932}, {\"x\": 1.818181818181818, \"y\": 3.305785123966941}, {\"x\": 1.8888888888888888, \"y\": 3.567901234567901}, {\"x\": 1.9595959595959593, \"y\": 3.8400163248648087}, {\"x\": 2.0303030303030303, \"y\": 4.122130394857668}, {\"x\": 2.101010101010101, \"y\": 4.414243444546476}, {\"x\": 2.1717171717171713, \"y\": 4.7163554739312294}, {\"x\": 2.242424242424242, \"y\": 5.028466483011937}, {\"x\": 2.313131313131313, \"y\": 5.350576471788593}, {\"x\": 2.383838383838384, \"y\": 5.682685440261199}, {\"x\": 2.454545454545454, \"y\": 6.02479338842975}, {\"x\": 2.525252525252525, \"y\": 6.376900316294255}, {\"x\": 2.595959595959596, \"y\": 6.739006223854709}, {\"x\": 2.666666666666666, \"y\": 7.111111111111108}, {\"x\": 2.737373737373737, \"y\": 7.493214978063461}, {\"x\": 2.808080808080808, \"y\": 7.8853178247117635}, {\"x\": 2.878787878787879, \"y\": 8.287419651056016}, {\"x\": 2.949494949494949, \"y\": 8.699520457096211}, {\"x\": 3.02020202020202, \"y\": 9.121620242832362}, {\"x\": 3.090909090909091, \"y\": 9.553719008264462}, {\"x\": 3.1616161616161618, \"y\": 9.995816753392512}, {\"x\": 3.232323232323232, \"y\": 10.447913478216504}, {\"x\": 3.3030303030303028, \"y\": 10.910009182736454}, {\"x\": 3.3737373737373737, \"y\": 11.382103866952352}, {\"x\": 3.4444444444444446, \"y\": 11.8641975308642}, {\"x\": 3.5151515151515147, \"y\": 12.35629017447199}, {\"x\": 3.5858585858585856, \"y\": 12.858381797775735}, {\"x\": 3.6565656565656566, \"y\": 13.370472400775432}, {\"x\": 3.7272727272727266, \"y\": 13.892561983471069}, {\"x\": 3.7979797979797976, \"y\": 14.424650545862663}, {\"x\": 3.8686868686868685, \"y\": 14.966738087950208}, {\"x\": 3.9393939393939394, \"y\": 15.5188246097337}, {\"x\": 4.0101010101010095, \"y\": 16.080910111213136}, {\"x\": 4.08080808080808, \"y\": 16.652994592388527}, {\"x\": 4.151515151515151, \"y\": 17.23507805325987}, {\"x\": 4.222222222222222, \"y\": 17.82716049382716}, {\"x\": 4.292929292929292, \"y\": 18.429241914090394}, {\"x\": 4.363636363636363, \"y\": 19.041322314049584}, {\"x\": 4.434343434343434, \"y\": 19.663401693704724}, {\"x\": 4.505050505050505, \"y\": 20.29548005305581}, {\"x\": 4.575757575757575, \"y\": 20.937557392102843}, {\"x\": 4.646464646464646, \"y\": 21.58963371084583}, {\"x\": 4.717171717171717, \"y\": 22.251709009284767}, {\"x\": 4.787878787878787, \"y\": 22.923783287419646}, {\"x\": 4.858585858585858, \"y\": 23.60585654525048}, {\"x\": 4.929292929292929, \"y\": 24.297928782777266}, {\"x\": 5.0, \"y\": 25.0}]}, \"mark\": {\"type\": \"line\", \"color\": \"blue\", \"size\": 1}, \"encoding\": {\"x\": {\"field\": \"x\", \"type\": \"quantitative\"}, \"y\": {\"field\": \"y\", \"type\": \"quantitative\"}}, \"name\": \"view_1\", \"title\": \"Function f(x) = x^2\"}, {\"data\": {\"values\": [{\"x\": 0.5, \"y\": 0.25}, {\"x\": 3.5, \"y\": 12.25}]}, \"mark\": {\"type\": \"line\", \"color\": \"red\", \"opacity\": 0.5, \"size\": 3}, \"encoding\": {\"x\": {\"field\": \"x\", \"type\": \"quantitative\"}, \"y\": {\"field\": \"y\", \"type\": \"quantitative\"}}}], \"height\": 300, \"params\": [{\"name\": \"param_1\", \"select\": {\"type\": \"interval\", \"encodings\": [\"x\", \"y\"]}, \"bind\": \"scales\", \"views\": [\"view_1\"]}], \"title\": \"f(x) = x^2\", \"width\": 400, \"$schema\": \"https://vega.github.io/schema/vega-lite/v5.20.1.json\"}, {\"mode\": \"vega-lite\"});\n",
       "</script>"
      ],
      "text/plain": [
       "alt.LayerChart(...)"
      ]
     },
     "metadata": {},
     "output_type": "display_data"
    }
   ],
   "source": [
    "import numpy as np\n",
    "import altair as alt\n",
    "\n",
    "x_values = np.linspace(-2, 5, 100)\n",
    "chart1 = alt.Chart(alt.Data(values=[{'x': x, 'y': func(x)} for x in x_values])).mark_line(color='blue', size=1).encode(x='x:Q', y='y:Q').properties(title='Function f(x) = x^2', width=400, height=300)\n",
    "chart2 = alt.Chart(alt.Data(values=[{'x': x0, 'y': y0}, {'x': x1, 'y': y1}])).mark_line(color='red', size=3, opacity=0.5).encode(x='x:Q', y='y:Q')\n",
    "final_chart = (chart1 + chart2).interactive().properties(title='f(x) = x^2')\n",
    "\n",
    "final_chart.display()"
   ]
  },
  {
   "cell_type": "markdown",
   "id": "c98270d4",
   "metadata": {},
   "source": [
    "$\\frac{d}{dx}(e^x) = e^x$"
   ]
  },
  {
   "cell_type": "code",
   "execution_count": 3,
   "id": "43c76f51",
   "metadata": {},
   "outputs": [
    {
     "name": "stdout",
     "output_type": "stream",
     "text": [
      "33.11545195869231\n",
      "33.11710778660881\n"
     ]
    }
   ],
   "source": [
    "import numpy as np\n",
    "\n",
    "x_values = 3.5 \n",
    "\n",
    "dx = 0.0001\n",
    "\n",
    "print(np.exp(x_values))\n",
    "\n",
    "print((np.exp(x_values + dx) - np.exp(x_values)) / dx)"
   ]
  },
  {
   "cell_type": "markdown",
   "id": "2fd4ddac",
   "metadata": {},
   "source": [
    "### 해석적 미분(Analytical Differentiation)\n",
    "\n",
    "어떤 함수를 미분(differentiation)해서 얻은 함수를 도함수(derivative)라고 합니다.\n",
    "\n",
    "$y=f(x)=x^2$ 라면 $\\frac{dy}{dx} = f'(x) = 2x$"
   ]
  },
  {
   "cell_type": "code",
   "execution_count": 4,
   "id": "5da095ca",
   "metadata": {},
   "outputs": [
    {
     "data": {
      "image/png": "[encoded data removed]",
      "text/plain": [
       "<Figure size 800x600 with 1 Axes>"
      ]
     },
     "metadata": {},
     "output_type": "display_data"
    }
   ],
   "source": [
    "import numpy as np\n",
    "import matplotlib.pyplot as plt\n",
    "\n",
    "x_values = np.linspace(-5, 5, 100)\n",
    "\n",
    "y_values = x_values ** 2\n",
    "\n",
    "f_prime_x = 2.0 * x_values\n",
    "\n",
    "plt.figure(figsize=(8, 6))\n",
    "plt.plot(x_values, y_values, label='$f(x) = x^2$', color='blue')\n",
    "plt.plot(x_values, f_prime_x, label=\"$f'(x) = 2x$\", color='red', linestyle='--')\n",
    "\n",
    "plt.xlabel('x')\n",
    "plt.ylabel('y')\n",
    "plt.title('Function $f(x) = x^2$ and its Derivative $f\\'(x) = 2x$')\n",
    "plt.legend()\n",
    "plt.grid(True)\n",
    "\n",
    "plt.show()"
   ]
  },
  {
   "cell_type": "markdown",
   "id": "7561890a",
   "metadata": {},
   "source": [
    "### 체인룰(Chain Rule)"
   ]
  },
  {
   "cell_type": "markdown",
   "id": "9bc4cf82",
   "metadata": {},
   "source": [
    "함수가 함수를 호출하는 복잡한 구조에서 미분을 단순화해주는 규칙입니다.\n",
    "\n",
    "$$\n",
    "y = (x^2 + 1)^{10}\n",
    "$$\n",
    "\n",
    "전개해보면\n",
    "\n",
    "$$y = x^{20} + 10x^{18} + 45x^{16} + 120x^{14} + 210x^{12} + 252x^{10} + 210x^8 + 120x^6 + 45x^4 + 10x^2 + 1$$\n",
    "\n",
    "더 복잡한 식에서는 전개하는 것만으로도 부담\n",
    "\n",
    "구조를 단순화하기 위해서 $u = x^2 + 1$라는 매개 변수를 도입\n",
    "\n",
    "$$u = x^2 + 1$$\n",
    "\n",
    "$$\n",
    "y = (x^2 + 1)^{10} = u^{10}\n",
    "$$\n",
    "\n",
    "체인룰을 적용하면 곱하기로 교체 \n",
    "\n",
    "$$\\frac{dy}{dx} = \\frac{dy}{du} \\cdot \\frac{du}{dx}$$\n",
    "\n",
    "$$\\frac{dy}{dx} = \\frac{d}{du}(u^{10}) \\cdot \\frac{d}{dx}(x^2 + 1) = (10 u^{9}) \\cdot (2x) = 10 (x^2 + 1)^9 \\cdot (2x)$$\n",
    "\n",
    "\n",
    "$$ \\frac{dy}{dx} = 20x(x^2 + 1)^9 $$"
   ]
  },
  {
   "cell_type": "code",
   "execution_count": 5,
   "id": "08edd568",
   "metadata": {},
   "outputs": [
    {
     "name": "stdout",
     "output_type": "stream",
     "text": [
      "7479.942569398187 73573.2056006379\n"
     ]
    }
   ],
   "source": [
    "def func_y(u):\n",
    "    return u**10\n",
    "\n",
    "def func_u(x):\n",
    "    return x**2 + 1\n",
    "\n",
    "def dy_du(u):\n",
    "    return 10 * u**9\n",
    "\n",
    "def du_dx(x):\n",
    "    return 2 * x\n",
    "\n",
    "x_value = 1.2 # 예시\n",
    "\n",
    "u_value = func_u(x_value)\n",
    "y_value = func_y(u_value)\n",
    "\n",
    "dy_dx = dy_du(u_value) * du_dx(x_value)\n",
    "\n",
    "print(y_value, dy_dx)"
   ]
  },
  {
   "cell_type": "code",
   "execution_count": 6,
   "id": "d286fd2d",
   "metadata": {},
   "outputs": [
    {
     "name": "stdout",
     "output_type": "stream",
     "text": [
      "7479.94256939818 73573.2056006379\n"
     ]
    }
   ],
   "source": [
    "import sympy as sp\n",
    "\n",
    "x = sp.symbols('x')\n",
    "\n",
    "y = x**20 + 10*x**18 + 45*x**16 + 120*x**14 + 210*x**12 + 252*x**10 + 210*x**8 + 120*x**6 + 45*x**4 + 10*x**2 + 1\n",
    "\n",
    "dy_dx = sp.diff(y, x)\n",
    "\n",
    "print(y.subs(x, 1.2), dy_dx.subs(x, 1.2))"
   ]
  }
 ],
 "metadata": {
  "kernelspec": {
   "display_name": "py312cpu",
   "language": "python",
   "name": "python3"
  },
  "language_info": {
   "codemirror_mode": {
    "name": "ipython",
    "version": 3
   },
   "file_extension": ".py",
   "mimetype": "text/x-python",
   "name": "python",
   "nbconvert_exporter": "python",
   "pygments_lexer": "ipython3",
   "version": "3.12.9"
  }
 },
 "nbformat": 4,
 "nbformat_minor": 5
}
