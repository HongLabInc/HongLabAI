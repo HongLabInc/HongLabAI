{
 "cells": [
  {
   "cell_type": "markdown",
   "id": "7b6c9a97",
   "metadata": {},
   "source": [
    "<a href='https://honglab.ai'><p style=\"text-align:center;\"><img src='https://lh3.googleusercontent.com/lY3ySXooSmwsq5r-mRi7uiypbo0Vez6pmNoQxMFhl9fmZJkRHu5lO2vo7se_0YOzgmDyJif9fi4_z0o3ZFdwd8NVSWG6Ea80uWaf3pOHpR4GHGDV7kaFeuHR3yAjIJjDgfXMxsvw=w2400'  class=\"center\" width=\"100%\" height=\"100%\"/></p></a>\n",
    "\n",
    "<center><em>Content Copyright by HongLab, Inc.</em></center>"
   ]
  },
  {
   "cell_type": "markdown",
   "id": "0c62b55a",
   "metadata": {},
   "source": [
    "# 파이썬 복습\n",
    "\n",
    "### 파이썬 설치\n",
    "\n",
    "아나콘다/미니콘다 가상환경 생성과 활성화\n",
    "- conda create -n 가상환경이름 python=3.12\n",
    "- conda activate 가상환경이름\n",
    "- pip install 패키지이름 \n",
    "- pip install -r requirements.txt\n",
    "- conda remove -n 가상환경이름 --all\n",
    "\n",
    "[파이토치](https://pytorch.org/) (파트1은 CPU만으로도 실습 가능)\n",
    "- pip install torch torchvision torchaudio"
   ]
  },
  {
   "cell_type": "markdown",
   "id": "00713685",
   "metadata": {},
   "source": [
    "### 기본 문법\n",
    "\n",
    "파트1은 [파이썬 추월코스](https://www.honglab.ai/courses/python) 챕터5에 상응하는 프로그래밍 연습"
   ]
  },
  {
   "cell_type": "markdown",
   "id": "77176fa0",
   "metadata": {},
   "source": [
    "### 컨텍스트 매니저"
   ]
  },
  {
   "cell_type": "code",
   "execution_count": null,
   "id": "8fefd396",
   "metadata": {},
   "outputs": [],
   "source": [
    "# 컨텍스트 매니저(with)\n",
    "class Light:\n",
    "    def __enter__(self):\n",
    "        print(\"불을 켭니다.\")\n",
    "        return self\n",
    "\n",
    "    def __exit__(self, exc_type, exc_val, exc_tb):\n",
    "        print(\"불을 끕니다.\")\n",
    "\n",
    "with Light():\n",
    "    print(\"방에서 책을 읽습니다.\")"
   ]
  },
  {
   "cell_type": "code",
   "execution_count": null,
   "id": "cc584199",
   "metadata": {},
   "outputs": [],
   "source": [
    "# Python 상속(클래스 상속) 간단 예시\n",
    "class Animal:\n",
    "    def speak(self):\n",
    "        print(\"소리를 냅니다.\")\n",
    "    def run(self):\n",
    "        print(\"뛰어갑니다.\")\n",
    "\n",
    "class Dog(Animal):\n",
    "    def speak(self):\n",
    "        print(\"멍멍!\")\n",
    "\n",
    "dog = Dog()\n",
    "dog.speak() # 멍멍!\n",
    "dog.run()   # 뛰어갑니다."
   ]
  },
  {
   "cell_type": "markdown",
   "id": "7af65c12",
   "metadata": {},
   "source": [
    "### 이터레이터(Iterator)"
   ]
  },
  {
   "cell_type": "code",
   "execution_count": null,
   "id": "f8744c82",
   "metadata": {},
   "outputs": [],
   "source": [
    "class SquareNumbers:\n",
    "    def __init__(self, my_list):\n",
    "        self.my_list = my_list\n",
    "\n",
    "    def __getitem__(self, idx):\n",
    "        return self.my_list[idx] ** 2\n",
    "    \n",
    "    def __len__(self):\n",
    "        return len(self.my_list)\n",
    "\n",
    "squares = SquareNumbers([0, 1, 2, 3, 4])\n",
    "\n",
    "for i in range(len(squares)):\n",
    "    print(squares[i], end=\" \")  # 출력: 0 1 4 9 16"
   ]
  },
  {
   "cell_type": "markdown",
   "id": "16d76430",
   "metadata": {},
   "source": [
    "### 팬더스(Pandas)"
   ]
  },
  {
   "cell_type": "code",
   "execution_count": null,
   "id": "1097a1c3",
   "metadata": {},
   "outputs": [],
   "source": [
    "import pandas as pd\n",
    "\n",
    "data = {'이름': ['철수', '영희', '민수'], '나이': [20, 21, 19]}\n",
    "df = pd.DataFrame(data)\n",
    "print(df)"
   ]
  },
  {
   "cell_type": "markdown",
   "id": "b18c79fb",
   "metadata": {},
   "source": [
    "### 넘파이(Numpy)"
   ]
  },
  {
   "cell_type": "code",
   "execution_count": null,
   "id": "b2e239da",
   "metadata": {},
   "outputs": [],
   "source": [
    "import numpy as np\n",
    "\n",
    "arr = np.array([[1, 2, 3],\n",
    "                [4, 5, 6]])\n",
    "\n",
    "print(arr.dtype) # int64\n",
    "print(arr.shape) # (2, 3)\n",
    "print(arr)"
   ]
  },
  {
   "cell_type": "code",
   "execution_count": null,
   "id": "1a94fd5e",
   "metadata": {},
   "outputs": [],
   "source": [
    "# 퀴즈\n",
    "\n",
    "import numpy as np\n",
    "\n",
    "l = [[1, 2, 3, 4], \n",
    "     [5, 6, 7, 8], \n",
    "     [9, 10, 11, 12]]\n",
    "\n",
    "arr = np.array(l)\n",
    "\n",
    "print(l[1][2])\n",
    "print(arr[1,2])\n",
    "print(arr[1][2])"
   ]
  },
  {
   "cell_type": "code",
   "execution_count": null,
   "id": "8f0dd941",
   "metadata": {},
   "outputs": [],
   "source": [
    "import numpy as np\n",
    "\n",
    "a = np.array([1, 2, 3]) # 1차원 배열 (벡터)\n",
    "b = np.array([4, 5, 6]) # 1차원 배열 (벡터)\n",
    "\n",
    "a_mul_b = a * b\n",
    "a_dot_b = np.dot(a, b) \n",
    "a_at_b = a @ b # 여기서는 np.dot(a, b)와 동일            \n",
    "\n",
    "print(a_mul_b)\n",
    "print(a_dot_b)\n",
    "print(a_at_b)"
   ]
  },
  {
   "cell_type": "code",
   "execution_count": null,
   "id": "67679695",
   "metadata": {},
   "outputs": [],
   "source": [
    "import numpy as np\n",
    "\n",
    "a = np.array([[1, 2], \n",
    "              [3, 4]]) # 2차원 배열 (2x2 행렬)\n",
    "\n",
    "b = np.array([[5, 6], \n",
    "              [7, 8]]) # 2차원 배열 (2x2 행렬)\n",
    "\n",
    "a_mul_b = a * b # 원소별 곱셈 (Hadamard product)\n",
    "a_matmul_b = np.matmul(a, b) # 행렬 곱셈 (b.T는 b의 전치행렬)\n",
    "a_at_b = a @ b # np.matmul(matrix_a, matrix_b)\n",
    "\n",
    "print(a_mul_b)\n",
    "print(a_matmul_b)\n",
    "print(a_at_b)"
   ]
  },
  {
   "cell_type": "code",
   "execution_count": null,
   "id": "eff29d79",
   "metadata": {},
   "outputs": [],
   "source": [
    "import numpy as np\n",
    "\n",
    "a = np.array([[1, 2, 3], \n",
    "              [4, 5, 6]]) # 2차원 배열 (2x3 행렬)\n",
    "\n",
    "b = np.array([[7, 8], \n",
    "              [9, 10],\n",
    "              [11, 12]]) # 2차원 배열 (2x3 행렬)\n",
    "\n",
    "# a_mul_b = a * b # 불가 a * b.T\n",
    "a_matmul_b = np.matmul(a, b) \n",
    "a_at_b = a @ b # Equivalent to np.matmul(matrix_a, matrix_b)\n",
    "\n",
    "print(a_matmul_b)\n",
    "print(a_at_b)"
   ]
  },
  {
   "cell_type": "markdown",
   "id": "aa19949c",
   "metadata": {},
   "source": [
    "### 그래프 그리기\n",
    "\n",
    "그래프 그리는 코드는 대부분 AI챗봇으로 만듭니다. 그래프의 의미만 이해할 수 있으면 됩니다. 코드 자체를 꼼꼼하게 분석하실 필요는 없습니다."
   ]
  },
  {
   "cell_type": "code",
   "execution_count": null,
   "id": "b009b8bc",
   "metadata": {},
   "outputs": [],
   "source": [
    "import matplotlib.pyplot as plt\n",
    "import numpy as np\n",
    "\n",
    "x = np.linspace(-5, 5, 100)\n",
    "y = x ** 2\n",
    "\n",
    "# print(x)\n",
    "# print(y)\n",
    "\n",
    "plt.plot(x, y)\n",
    "plt.xlabel(\"x\")\n",
    "plt.ylabel(\"y\")\n",
    "plt.title(\"$y = x^2$\")\n",
    "plt.grid(True)\n",
    "plt.show()"
   ]
  },
  {
   "cell_type": "code",
   "execution_count": null,
   "id": "d245d2cf",
   "metadata": {},
   "outputs": [],
   "source": [
    "import altair as alt\n",
    "import pandas as pd\n",
    "import numpy as np\n",
    "\n",
    "x = np.linspace(-5, 5, 100)\n",
    "y = x ** 2\n",
    "df = pd.DataFrame({'x': x, 'y': y}) # <- Pandas 사용\n",
    "\n",
    "# Create a zooming selection\n",
    "zoom = alt.selection_interval(bind='scales')\n",
    "\n",
    "chart = alt.Chart(df).mark_line().encode(\n",
    "    x='x',\n",
    "    y='y'\n",
    ").properties(\n",
    "    title='y = x^2'\n",
    ").add_params(\n",
    "    zoom\n",
    ")\n",
    "\n",
    "chart"
   ]
  }
 ],
 "metadata": {
  "kernelspec": {
   "display_name": "py312cpu",
   "language": "python",
   "name": "python3"
  },
  "language_info": {
   "codemirror_mode": {
    "name": "ipython",
    "version": 3
   },
   "file_extension": ".py",
   "mimetype": "text/x-python",
   "name": "python",
   "nbconvert_exporter": "python",
   "pygments_lexer": "ipython3",
   "version": "3.12.9"
  }
 },
 "nbformat": 4,
 "nbformat_minor": 5
}
